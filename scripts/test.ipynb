{
 "cells": [
  {
   "cell_type": "code",
   "execution_count": 1,
   "metadata": {
    "collapsed": true
   },
   "outputs": [
    {
     "data": {
      "text/plain": "(10847, 34)"
     },
     "execution_count": 1,
     "metadata": {},
     "output_type": "execute_result"
    }
   ],
   "source": [
    "import pandas as pd\n",
    "\n",
    "data = pd.read_csv('../data/Power_Plants.csv')\n",
    "data.shape"
   ]
  },
  {
   "cell_type": "code",
   "execution_count": 2,
   "outputs": [
    {
     "data": {
      "text/plain": "            X          Y  OBJECTID  Plant_Code          Plant_Name  \\\n0 -160.497222  55.339722     10058           1          Sand Point   \n1  -87.356823  33.458665     10059           2        Bankhead Dam   \n2  -88.010300  31.006900     10060           3               Barry   \n3  -86.283056  32.583889     10061           4  Walter Bouldin Dam   \n4  -85.970800  34.012800     10062           7             Gadsden   \n\n                     Utility_Name  Utility_ID       sector_name        City  \\\n0  TDX Sand Point Generating, LLC       63560       IPP Non-CHP  Sand Point   \n1                Alabama Power Co         195  Electric Utility   Northport   \n2                Alabama Power Co         195  Electric Utility       Bucks   \n3                Alabama Power Co         195  Electric Utility    Wetumpka   \n4                Alabama Power Co         195  Electric Utility     Gadsden   \n\n           County  ...                                source_desc  \\\n0  Aleutians East  ...          Petroleum = 1.4 MW, Wind = 0.4 MW   \n1      Tuscaloosa  ...                      Hydroelectric = 53 MW   \n2          Mobile  ...  Coal = 1118.5 MW, Natural Gas = 1281.2 MW   \n3          Elmore  ...                   Hydroelectric = 224.1 MW   \n4          Etowah  ...                       Natural Gas = 130 MW   \n\n                                           tech_desc  \\\n0           Petroleum Liquids; Onshore Wind Turbine;   \n1                         Conventional Hydroelectric   \n2  Conventional Steam Coal; Natural Gas Fired Com...   \n3                         Conventional Hydroelectric   \n4                          Natural Gas Steam Turbine   \n\n                          Source  Period   Latitude   Longitude  Bio_MW  \\\n0  EIA-860, EIA-860M and EIA-923  202108  55.339722 -160.497222     NaN   \n1  EIA-860, EIA-860M and EIA-923  202108  33.458665  -87.356823     NaN   \n2  EIA-860, EIA-860M and EIA-923  202108  31.006900  -88.010300     NaN   \n3  EIA-860, EIA-860M and EIA-923  202108  32.583889  -86.283056     NaN   \n4  EIA-860, EIA-860M and EIA-923  202108  34.012800  -85.970800     NaN   \n\n   Geo_MW  Bat_MW  Other_MW  \n0     NaN     NaN       NaN  \n1     NaN     NaN       NaN  \n2     NaN     NaN       NaN  \n3     NaN     NaN       NaN  \n4     NaN     NaN       NaN  \n\n[5 rows x 34 columns]",
      "text/html": "<div>\n<style scoped>\n    .dataframe tbody tr th:only-of-type {\n        vertical-align: middle;\n    }\n\n    .dataframe tbody tr th {\n        vertical-align: top;\n    }\n\n    .dataframe thead th {\n        text-align: right;\n    }\n</style>\n<table border=\"1\" class=\"dataframe\">\n  <thead>\n    <tr style=\"text-align: right;\">\n      <th></th>\n      <th>X</th>\n      <th>Y</th>\n      <th>OBJECTID</th>\n      <th>Plant_Code</th>\n      <th>Plant_Name</th>\n      <th>Utility_Name</th>\n      <th>Utility_ID</th>\n      <th>sector_name</th>\n      <th>City</th>\n      <th>County</th>\n      <th>...</th>\n      <th>source_desc</th>\n      <th>tech_desc</th>\n      <th>Source</th>\n      <th>Period</th>\n      <th>Latitude</th>\n      <th>Longitude</th>\n      <th>Bio_MW</th>\n      <th>Geo_MW</th>\n      <th>Bat_MW</th>\n      <th>Other_MW</th>\n    </tr>\n  </thead>\n  <tbody>\n    <tr>\n      <th>0</th>\n      <td>-160.497222</td>\n      <td>55.339722</td>\n      <td>10058</td>\n      <td>1</td>\n      <td>Sand Point</td>\n      <td>TDX Sand Point Generating, LLC</td>\n      <td>63560</td>\n      <td>IPP Non-CHP</td>\n      <td>Sand Point</td>\n      <td>Aleutians East</td>\n      <td>...</td>\n      <td>Petroleum = 1.4 MW, Wind = 0.4 MW</td>\n      <td>Petroleum Liquids; Onshore Wind Turbine;</td>\n      <td>EIA-860, EIA-860M and EIA-923</td>\n      <td>202108</td>\n      <td>55.339722</td>\n      <td>-160.497222</td>\n      <td>NaN</td>\n      <td>NaN</td>\n      <td>NaN</td>\n      <td>NaN</td>\n    </tr>\n    <tr>\n      <th>1</th>\n      <td>-87.356823</td>\n      <td>33.458665</td>\n      <td>10059</td>\n      <td>2</td>\n      <td>Bankhead Dam</td>\n      <td>Alabama Power Co</td>\n      <td>195</td>\n      <td>Electric Utility</td>\n      <td>Northport</td>\n      <td>Tuscaloosa</td>\n      <td>...</td>\n      <td>Hydroelectric = 53 MW</td>\n      <td>Conventional Hydroelectric</td>\n      <td>EIA-860, EIA-860M and EIA-923</td>\n      <td>202108</td>\n      <td>33.458665</td>\n      <td>-87.356823</td>\n      <td>NaN</td>\n      <td>NaN</td>\n      <td>NaN</td>\n      <td>NaN</td>\n    </tr>\n    <tr>\n      <th>2</th>\n      <td>-88.010300</td>\n      <td>31.006900</td>\n      <td>10060</td>\n      <td>3</td>\n      <td>Barry</td>\n      <td>Alabama Power Co</td>\n      <td>195</td>\n      <td>Electric Utility</td>\n      <td>Bucks</td>\n      <td>Mobile</td>\n      <td>...</td>\n      <td>Coal = 1118.5 MW, Natural Gas = 1281.2 MW</td>\n      <td>Conventional Steam Coal; Natural Gas Fired Com...</td>\n      <td>EIA-860, EIA-860M and EIA-923</td>\n      <td>202108</td>\n      <td>31.006900</td>\n      <td>-88.010300</td>\n      <td>NaN</td>\n      <td>NaN</td>\n      <td>NaN</td>\n      <td>NaN</td>\n    </tr>\n    <tr>\n      <th>3</th>\n      <td>-86.283056</td>\n      <td>32.583889</td>\n      <td>10061</td>\n      <td>4</td>\n      <td>Walter Bouldin Dam</td>\n      <td>Alabama Power Co</td>\n      <td>195</td>\n      <td>Electric Utility</td>\n      <td>Wetumpka</td>\n      <td>Elmore</td>\n      <td>...</td>\n      <td>Hydroelectric = 224.1 MW</td>\n      <td>Conventional Hydroelectric</td>\n      <td>EIA-860, EIA-860M and EIA-923</td>\n      <td>202108</td>\n      <td>32.583889</td>\n      <td>-86.283056</td>\n      <td>NaN</td>\n      <td>NaN</td>\n      <td>NaN</td>\n      <td>NaN</td>\n    </tr>\n    <tr>\n      <th>4</th>\n      <td>-85.970800</td>\n      <td>34.012800</td>\n      <td>10062</td>\n      <td>7</td>\n      <td>Gadsden</td>\n      <td>Alabama Power Co</td>\n      <td>195</td>\n      <td>Electric Utility</td>\n      <td>Gadsden</td>\n      <td>Etowah</td>\n      <td>...</td>\n      <td>Natural Gas = 130 MW</td>\n      <td>Natural Gas Steam Turbine</td>\n      <td>EIA-860, EIA-860M and EIA-923</td>\n      <td>202108</td>\n      <td>34.012800</td>\n      <td>-85.970800</td>\n      <td>NaN</td>\n      <td>NaN</td>\n      <td>NaN</td>\n      <td>NaN</td>\n    </tr>\n  </tbody>\n</table>\n<p>5 rows × 34 columns</p>\n</div>"
     },
     "execution_count": 2,
     "metadata": {},
     "output_type": "execute_result"
    }
   ],
   "source": [
    "data.head(5)"
   ],
   "metadata": {
    "collapsed": false
   }
  },
  {
   "cell_type": "code",
   "execution_count": 3,
   "outputs": [],
   "source": [
    "resources = ['hydroelectric', 'solar','wind']\n",
    "data = data[data['PrimSource'].isin(resources)]"
   ],
   "metadata": {
    "collapsed": false
   }
  },
  {
   "cell_type": "code",
   "execution_count": 9,
   "outputs": [],
   "source": [
    "states = sorted(data['StateName'].unique())\n"
   ],
   "metadata": {
    "collapsed": false
   }
  },
  {
   "cell_type": "code",
   "execution_count": null,
   "outputs": [],
   "source": [
    "state_dict = {}\n",
    "\n",
    "for state in states:\n",
    "    state_data = {}\n",
    "    for resource_type in resources:\n",
    "        res_data = data[(data['StateName'] == state) & (data['resource_type'] == resource_type)][['Latitude', 'Longitude']].values.tolist()\n",
    "        state_data[resource_type] = res_data\n",
    "    state_dict[state] = state_data"
   ],
   "metadata": {
    "collapsed": false,
    "pycharm": {
     "is_executing": true
    }
   }
  }
 ],
 "metadata": {
  "kernelspec": {
   "display_name": "Python 3",
   "language": "python",
   "name": "python3"
  },
  "language_info": {
   "codemirror_mode": {
    "name": "ipython",
    "version": 2
   },
   "file_extension": ".py",
   "mimetype": "text/x-python",
   "name": "python",
   "nbconvert_exporter": "python",
   "pygments_lexer": "ipython2",
   "version": "2.7.6"
  }
 },
 "nbformat": 4,
 "nbformat_minor": 0
}
